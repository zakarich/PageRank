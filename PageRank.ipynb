{
 "cells": [
  {
   "cell_type": "code",
   "execution_count": 1,
   "metadata": {},
   "outputs": [],
   "source": [
    "import numpy as np\n",
    "import scipy as sc\n",
    "import pandas as pd\n",
    "from fractions import Fraction\n",
    "from math import sqrt\n",
    "import xml.dom.minidom"
   ]
  },
  {
   "cell_type": "code",
   "execution_count": 2,
   "metadata": {},
   "outputs": [],
   "source": [
    "def getPages():\n",
    "    doc=xml.dom.minidom.parse(r'WebPageSmall.xml')\n",
    "    pagesList=[]\n",
    "    totalLinks=[]\n",
    "    pages=doc.getElementsByTagName('page')\n",
    "    for page in pages:\n",
    "        listeLinks=[]\n",
    "        pagesList.append(page.getAttribute(\"PageName\"))\n",
    "        Links=page.getElementsByTagName(\"link\")\n",
    "        for l in range(len(Links)):\n",
    "            listeLinks.append(Links[l].firstChild.nodeValue)  \n",
    "        totalLinks.append(listeLinks)\n",
    "    return pagesList,totalLinks"
   ]
  },
  {
   "cell_type": "code",
   "execution_count": 3,
   "metadata": {},
   "outputs": [],
   "source": [
    "def transportation():\n",
    "    pages, Links=getPages()\n",
    "    print(\"===============================\")\n",
    "    for i in range(len(pages)):\n",
    "        print(pages[i],\" has links to: \",Links[i])\n",
    "    print(\"==================Transportation==============\")\n",
    "    matrice=np.zeros((len(pages),len(pages)))\n",
    "    for i in range(len(pages)):\n",
    "        for j in range(len(pages)):\n",
    "            if pages[j] in Links[i]:\n",
    "                matrice[i][j]=0.85*1/len(Links[i])\n",
    "    print(matrice)\n",
    "    print(\"===============================\")\n",
    "    return matrice"
   ]
  },
  {
   "cell_type": "code",
   "execution_count": 4,
   "metadata": {},
   "outputs": [],
   "source": [
    "def isdangling():\n",
    "    pages, Links=getPages()\n",
    "    dangling=[]\n",
    "    index=[]\n",
    "    for i in range(len(pages)):\n",
    "        if not Links[i] :\n",
    "            dangling.append(pages[i])\n",
    "            index.append(i)\n",
    "    return dangling,index"
   ]
  },
  {
   "cell_type": "code",
   "execution_count": 5,
   "metadata": {},
   "outputs": [
    {
     "name": "stdout",
     "output_type": "stream",
     "text": [
      "==========Dangling Nodes\n",
      "dangling node is :  D his index is : 3\n"
     ]
    }
   ],
   "source": [
    "dangling,indexdang=isdangling()\n",
    "print(\"==========Dangling Nodes\")\n",
    "for i in range(len(dangling)):\n",
    "    print(\"dangling node is : \",dangling[i],\"his index is :\",indexdang[i])\n",
    "#print(dangling)\n",
    "#print(indexdang)"
   ]
  },
  {
   "cell_type": "code",
   "execution_count": 6,
   "metadata": {},
   "outputs": [
    {
     "name": "stdout",
     "output_type": "stream",
     "text": [
      "===============================\n",
      "A  has links to:  ['B', 'C']\n",
      "B  has links to:  ['D']\n",
      "C  has links to:  ['A', 'B', 'D']\n",
      "D  has links to:  []\n",
      "==================Transportation==============\n",
      "[[0.         0.425      0.425      0.        ]\n",
      " [0.         0.         0.         0.85      ]\n",
      " [0.28333333 0.28333333 0.         0.28333333]\n",
      " [0.         0.         0.         0.        ]]\n",
      "===============================\n"
     ]
    }
   ],
   "source": [
    "Pages=[\"A\",\"B\",\"C\",\"D\"]\n",
    "#this ligne about the file webPageCours that contains a another example xml describing another graph of webpages \n",
    "#Pages=[\"A\",\"B\",\"C\",\"D\",\"E\",\"F\",\"G\",\"H\",\"I\",\"L\",\"M\"]\n",
    "Mat=transportation()"
   ]
  },
  {
   "cell_type": "code",
   "execution_count": 7,
   "metadata": {},
   "outputs": [
    {
     "name": "stdout",
     "output_type": "stream",
     "text": [
      "==========Teleportation===============\n",
      "[[0.0375 0.0375 0.0375 0.0375]\n",
      " [0.0375 0.0375 0.0375 0.0375]\n",
      " [0.0375 0.0375 0.0375 0.0375]\n",
      " [0.25   0.25   0.25   0.25  ]]\n"
     ]
    }
   ],
   "source": [
    "nbr_pages=len(Pages)\n",
    "Ex = np.zeros((nbr_pages,nbr_pages))\n",
    "Ex1 = np.zeros((nbr_pages,nbr_pages))\n",
    "Ex[:] = 0.15/nbr_pages\n",
    "Ex1[:] = 1/nbr_pages\n",
    "\n",
    "for i in indexdang:\n",
    "    Ex[i,:]=Ex1[i,:]\n",
    "print(\"==========Teleportation===============\")\n",
    "print(Ex)"
   ]
  },
  {
   "cell_type": "code",
   "execution_count": 8,
   "metadata": {},
   "outputs": [
    {
     "name": "stdout",
     "output_type": "stream",
     "text": [
      "============ Random Surfing Probability==========\n",
      "[[0.0375     0.4625     0.4625     0.0375    ]\n",
      " [0.0375     0.0375     0.0375     0.8875    ]\n",
      " [0.32083333 0.32083333 0.0375     0.32083333]\n",
      " [0.25       0.25       0.25       0.25      ]]\n"
     ]
    }
   ],
   "source": [
    "print(\"============ Random Surfing Probability==========\")\n",
    "print(Ex+Mat)"
   ]
  }
 ],
 "metadata": {
  "kernelspec": {
   "display_name": "Python 3",
   "language": "python",
   "name": "python3"
  },
  "language_info": {
   "codemirror_mode": {
    "name": "ipython",
    "version": 3
   },
   "file_extension": ".py",
   "mimetype": "text/x-python",
   "name": "python",
   "nbconvert_exporter": "python",
   "pygments_lexer": "ipython3",
   "version": "3.7.4"
  }
 },
 "nbformat": 4,
 "nbformat_minor": 4
}
